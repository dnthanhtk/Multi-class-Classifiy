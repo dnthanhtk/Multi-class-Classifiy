{
  "nbformat": 4,
  "nbformat_minor": 0,
  "metadata": {
    "colab": {
      "name": "Multiclass.ipynb",
      "provenance": [],
      "collapsed_sections": [],
      "authorship_tag": "ABX9TyNpj5GajrmBeqgQl6t0fezg",
      "include_colab_link": true
    },
    "kernelspec": {
      "name": "python3",
      "display_name": "Python 3"
    },
    "language_info": {
      "name": "python"
    },
    "accelerator": "GPU"
  },
  "cells": [
    {
      "cell_type": "markdown",
      "metadata": {
        "id": "view-in-github",
        "colab_type": "text"
      },
      "source": [
        "<a href=\"https://colab.research.google.com/github/dnthanhtk/Multi-class-Classifiy/blob/main/Multiclass.ipynb\" target=\"_parent\"><img src=\"https://colab.research.google.com/assets/colab-badge.svg\" alt=\"Open In Colab\"/></a>"
      ]
    },
    {
      "cell_type": "markdown",
      "metadata": {
        "id": "OToWFSk7Fye9"
      },
      "source": [
        "LOAD DATA"
      ]
    },
    {
      "cell_type": "code",
      "metadata": {
        "colab": {
          "base_uri": "https://localhost:8080/"
        },
        "id": "_ULKKbMbKP7H",
        "outputId": "fc696e22-6eb8-4fb2-abcc-fdc68d7c84d3"
      },
      "source": [
        "from google.colab import drive\n",
        "drive.mount('/content/drive')"
      ],
      "execution_count": 168,
      "outputs": [
        {
          "output_type": "stream",
          "text": [
            "Drive already mounted at /content/drive; to attempt to forcibly remount, call drive.mount(\"/content/drive\", force_remount=True).\n"
          ],
          "name": "stdout"
        }
      ]
    },
    {
      "cell_type": "code",
      "metadata": {
        "id": "Rlgx7WQNKdcc"
      },
      "source": [
        "import pandas as pd\n",
        "import numpy as np\n",
        "import matplotlib.pyplot as plt\n",
        "from sklearn.model_selection import train_test_split\n",
        "from sklearn.feature_extraction.text import TfidfVectorizer \n",
        "from sklearn.multiclass import OneVsRestClassifier\n",
        "from sklearn.svm import SVC"
      ],
      "execution_count": 169,
      "outputs": []
    },
    {
      "cell_type": "code",
      "metadata": {
        "id": "rQQwlZmYLyxE",
        "colab": {
          "base_uri": "https://localhost:8080/",
          "height": 424
        },
        "outputId": "2bfff9c2-628f-4713-da35-7633ba484f34"
      },
      "source": [
        "pf=pd.read_csv('/content/drive/MyDrive/TTS AI/crawldata/data_multilabel.csv')\n",
        "pf"
      ],
      "execution_count": 170,
      "outputs": [
        {
          "output_type": "execute_result",
          "data": {
            "text/html": [
              "<div>\n",
              "<style scoped>\n",
              "    .dataframe tbody tr th:only-of-type {\n",
              "        vertical-align: middle;\n",
              "    }\n",
              "\n",
              "    .dataframe tbody tr th {\n",
              "        vertical-align: top;\n",
              "    }\n",
              "\n",
              "    .dataframe thead th {\n",
              "        text-align: right;\n",
              "    }\n",
              "</style>\n",
              "<table border=\"1\" class=\"dataframe\">\n",
              "  <thead>\n",
              "    <tr style=\"text-align: right;\">\n",
              "      <th></th>\n",
              "      <th>Unnamed: 0</th>\n",
              "      <th>text</th>\n",
              "      <th>label</th>\n",
              "    </tr>\n",
              "  </thead>\n",
              "  <tbody>\n",
              "    <tr>\n",
              "      <th>0</th>\n",
              "      <td>0</td>\n",
              "      <td>Ấn Độ chạy đua với sóng thần Covid-19 thứ ba</td>\n",
              "      <td>tulieu</td>\n",
              "    </tr>\n",
              "    <tr>\n",
              "      <th>1</th>\n",
              "      <td>1</td>\n",
              "      <td>Đệ nhất phu nhân Mỹ nỗ lực đập tan kỳ thị vacc...</td>\n",
              "      <td>tulieu</td>\n",
              "    </tr>\n",
              "    <tr>\n",
              "      <th>2</th>\n",
              "      <td>2</td>\n",
              "      <td>Ba năm FBI giăng bẫy bắt mạng lưới 800 tội phạ...</td>\n",
              "      <td>tulieu</td>\n",
              "    </tr>\n",
              "    <tr>\n",
              "      <th>3</th>\n",
              "      <td>3</td>\n",
              "      <td>Tổng thống Pháp được bảo vệ thế nào?</td>\n",
              "      <td>tulieu</td>\n",
              "    </tr>\n",
              "    <tr>\n",
              "      <th>4</th>\n",
              "      <td>4</td>\n",
              "      <td>Người gốc Á lo sợ Mỹ tái mở cửa</td>\n",
              "      <td>tulieu</td>\n",
              "    </tr>\n",
              "    <tr>\n",
              "      <th>...</th>\n",
              "      <td>...</td>\n",
              "      <td>...</td>\n",
              "      <td>...</td>\n",
              "    </tr>\n",
              "    <tr>\n",
              "      <th>5095</th>\n",
              "      <td>5095</td>\n",
              "      <td>Tiêm kích tàng hình F-35A ném thử bom hạt nhân</td>\n",
              "      <td>quansu</td>\n",
              "    </tr>\n",
              "    <tr>\n",
              "      <th>5096</th>\n",
              "      <td>5096</td>\n",
              "      <td>Nga, Thổ bất đồng về giám sát hòa bình ở Nagor...</td>\n",
              "      <td>quansu</td>\n",
              "    </tr>\n",
              "    <tr>\n",
              "      <th>5097</th>\n",
              "      <td>5097</td>\n",
              "      <td>Nga dọa đáp trả vụ Mỹ rút khỏi Hiệp ước Bầu tr...</td>\n",
              "      <td>quansu</td>\n",
              "    </tr>\n",
              "    <tr>\n",
              "      <th>5098</th>\n",
              "      <td>5098</td>\n",
              "      <td>Cử tướng thăm Đài Loan, Trump có thể chọc giận...</td>\n",
              "      <td>quansu</td>\n",
              "    </tr>\n",
              "    <tr>\n",
              "      <th>5099</th>\n",
              "      <td>5099</td>\n",
              "      <td>Trung Quốc đưa thiết giáp 'Humvee nhái' lên bi...</td>\n",
              "      <td>quansu</td>\n",
              "    </tr>\n",
              "  </tbody>\n",
              "</table>\n",
              "<p>5100 rows × 3 columns</p>\n",
              "</div>"
            ],
            "text/plain": [
              "      Unnamed: 0                                               text   label\n",
              "0              0       Ấn Độ chạy đua với sóng thần Covid-19 thứ ba  tulieu\n",
              "1              1  Đệ nhất phu nhân Mỹ nỗ lực đập tan kỳ thị vacc...  tulieu\n",
              "2              2  Ba năm FBI giăng bẫy bắt mạng lưới 800 tội phạ...  tulieu\n",
              "3              3               Tổng thống Pháp được bảo vệ thế nào?  tulieu\n",
              "4              4                    Người gốc Á lo sợ Mỹ tái mở cửa  tulieu\n",
              "...          ...                                                ...     ...\n",
              "5095        5095    Tiêm kích tàng hình F-35A ném thử bom hạt nhân   quansu\n",
              "5096        5096  Nga, Thổ bất đồng về giám sát hòa bình ở Nagor...  quansu\n",
              "5097        5097  Nga dọa đáp trả vụ Mỹ rút khỏi Hiệp ước Bầu tr...  quansu\n",
              "5098        5098  Cử tướng thăm Đài Loan, Trump có thể chọc giận...  quansu\n",
              "5099        5099  Trung Quốc đưa thiết giáp 'Humvee nhái' lên bi...  quansu\n",
              "\n",
              "[5100 rows x 3 columns]"
            ]
          },
          "metadata": {
            "tags": []
          },
          "execution_count": 170
        }
      ]
    },
    {
      "cell_type": "code",
      "metadata": {
        "colab": {
          "base_uri": "https://localhost:8080/"
        },
        "id": "bpY8pAqPm6Td",
        "outputId": "c167cba9-c081-4589-b673-6f331f951569"
      },
      "source": [
        "text=pf['text']\n",
        "text"
      ],
      "execution_count": 171,
      "outputs": [
        {
          "output_type": "execute_result",
          "data": {
            "text/plain": [
              "0            Ấn Độ chạy đua với sóng thần Covid-19 thứ ba\n",
              "1       Đệ nhất phu nhân Mỹ nỗ lực đập tan kỳ thị vacc...\n",
              "2       Ba năm FBI giăng bẫy bắt mạng lưới 800 tội phạ...\n",
              "3                    Tổng thống Pháp được bảo vệ thế nào?\n",
              "4                         Người gốc Á lo sợ Mỹ tái mở cửa\n",
              "                              ...                        \n",
              "5095      Tiêm kích tàng hình F-35A ném thử bom hạt nhân \n",
              "5096    Nga, Thổ bất đồng về giám sát hòa bình ở Nagor...\n",
              "5097    Nga dọa đáp trả vụ Mỹ rút khỏi Hiệp ước Bầu tr...\n",
              "5098    Cử tướng thăm Đài Loan, Trump có thể chọc giận...\n",
              "5099    Trung Quốc đưa thiết giáp 'Humvee nhái' lên bi...\n",
              "Name: text, Length: 5100, dtype: object"
            ]
          },
          "metadata": {
            "tags": []
          },
          "execution_count": 171
        }
      ]
    },
    {
      "cell_type": "code",
      "metadata": {
        "colab": {
          "base_uri": "https://localhost:8080/"
        },
        "id": "MfqOcI6Jm9Ax",
        "outputId": "1f0d99bc-c3bc-407b-eda0-e9c7dab8cc1d"
      },
      "source": [
        "label=pf['label']\n",
        "label"
      ],
      "execution_count": 172,
      "outputs": [
        {
          "output_type": "execute_result",
          "data": {
            "text/plain": [
              "0       tulieu\n",
              "1       tulieu\n",
              "2       tulieu\n",
              "3       tulieu\n",
              "4       tulieu\n",
              "         ...  \n",
              "5095    quansu\n",
              "5096    quansu\n",
              "5097    quansu\n",
              "5098    quansu\n",
              "5099    quansu\n",
              "Name: label, Length: 5100, dtype: object"
            ]
          },
          "metadata": {
            "tags": []
          },
          "execution_count": 172
        }
      ]
    },
    {
      "cell_type": "markdown",
      "metadata": {
        "id": "vPYrEQXcF3as"
      },
      "source": [
        "TF-IDF text"
      ]
    },
    {
      "cell_type": "code",
      "metadata": {
        "colab": {
          "base_uri": "https://localhost:8080/"
        },
        "id": "cTNSB0aFMlDd",
        "outputId": "8dfc7333-0ff1-449b-fcf9-fc1699cfba3a"
      },
      "source": [
        "vectorizar=TfidfVectorizer()\n",
        "vectorizar.fit(text)"
      ],
      "execution_count": 173,
      "outputs": [
        {
          "output_type": "execute_result",
          "data": {
            "text/plain": [
              "TfidfVectorizer(analyzer='word', binary=False, decode_error='strict',\n",
              "                dtype=<class 'numpy.float64'>, encoding='utf-8',\n",
              "                input='content', lowercase=True, max_df=1.0, max_features=None,\n",
              "                min_df=1, ngram_range=(1, 1), norm='l2', preprocessor=None,\n",
              "                smooth_idf=True, stop_words=None, strip_accents=None,\n",
              "                sublinear_tf=False, token_pattern='(?u)\\\\b\\\\w\\\\w+\\\\b',\n",
              "                tokenizer=None, use_idf=True, vocabulary=None)"
            ]
          },
          "metadata": {
            "tags": []
          },
          "execution_count": 173
        }
      ]
    },
    {
      "cell_type": "markdown",
      "metadata": {
        "id": "7xU4Fv4sF9ul"
      },
      "source": [
        "Label "
      ]
    },
    {
      "cell_type": "code",
      "metadata": {
        "colab": {
          "base_uri": "https://localhost:8080/"
        },
        "id": "3O_aBQFFNgL7",
        "outputId": "526e983d-0b24-4da3-a068-70afadec9787"
      },
      "source": [
        "from sklearn.preprocessing import LabelEncoder\n",
        "gen=LabelEncoder()\n",
        "gen.fit(label)\n",
        "label=gen.transform(label)\n",
        "label\n",
        "#4: tulieu\n",
        "#3: quansu\n",
        "#2: phantich\n",
        "#1: nguoiviet5chau\n",
        "#0: cuocsongdoday"
      ],
      "execution_count": 174,
      "outputs": [
        {
          "output_type": "execute_result",
          "data": {
            "text/plain": [
              "array([4, 4, 4, ..., 3, 3, 3])"
            ]
          },
          "metadata": {
            "tags": []
          },
          "execution_count": 174
        }
      ]
    },
    {
      "cell_type": "code",
      "metadata": {
        "colab": {
          "base_uri": "https://localhost:8080/"
        },
        "id": "GWaGkgXQHYeB",
        "outputId": "564e53f1-b420-438a-edea-35be3bd6adb1"
      },
      "source": [
        "label[5000]"
      ],
      "execution_count": 175,
      "outputs": [
        {
          "output_type": "execute_result",
          "data": {
            "text/plain": [
              "3"
            ]
          },
          "metadata": {
            "tags": []
          },
          "execution_count": 175
        }
      ]
    },
    {
      "cell_type": "markdown",
      "metadata": {
        "id": "2dAksYsaF9tU"
      },
      "source": [
        "Chia text roi moi lay vector"
      ]
    },
    {
      "cell_type": "code",
      "metadata": {
        "id": "aA6yt9iUNGvZ"
      },
      "source": [
        "X_train,X_test,y_train, y_test=train_test_split(text,label,test_size=0.3)\n"
      ],
      "execution_count": 176,
      "outputs": []
    },
    {
      "cell_type": "code",
      "metadata": {
        "id": "DbkDQ3LzKilf"
      },
      "source": [
        "y_test_array=[]\n",
        "for y in y_test:\n",
        "  y_test_array.append(y)\n",
        "y_test_array"
      ],
      "execution_count": null,
      "outputs": []
    },
    {
      "cell_type": "code",
      "metadata": {
        "id": "mAQv3qBJNYC_"
      },
      "source": [
        "X_train_tfidf=vectorizar.transform(X_train)\n",
        "X_test_tfidf=vectorizar.transform(X_test)\n",
        "\n"
      ],
      "execution_count": 178,
      "outputs": []
    },
    {
      "cell_type": "code",
      "metadata": {
        "id": "LvYK2V-8I7Er"
      },
      "source": [
        "X_test_array=[]\n",
        "for x in X_test:\n",
        "  X_test_array.append(x)\n",
        "X_test_array"
      ],
      "execution_count": null,
      "outputs": []
    },
    {
      "cell_type": "markdown",
      "metadata": {
        "id": "ZcBeoOOuGRTu"
      },
      "source": [
        "OneVsRest (SVC)"
      ]
    },
    {
      "cell_type": "code",
      "metadata": {
        "id": "UjFU9npfGuPc"
      },
      "source": [
        "list_index=np.arange(1,100,25)\n"
      ],
      "execution_count": 180,
      "outputs": []
    },
    {
      "cell_type": "code",
      "metadata": {
        "colab": {
          "base_uri": "https://localhost:8080/"
        },
        "id": "KUi_T8A1PEF8",
        "outputId": "3d9b8830-7780-4529-c332-f41692e3e441"
      },
      "source": [
        "clf=OneVsRestClassifier(SVC(kernel='rbf')) #rbf,C=2,gamma=1\n",
        "clf.fit(X_train_tfidf,y_train)\n",
        "score=clf.score(X_test_tfidf,y_test)\n",
        "print(score)\n",
        "for i in list_index:\n",
        "  t=X_test_array[i]\n",
        "  result=gen.inverse_transform(clf.predict(X_test_tfidf[i]))\n",
        "  result_true=gen.inverse_transform([y_test_array[i]])\n",
        "\n",
        "\n",
        "  \n",
        "  print('text: {}    ->     label_model:{};     label_true:{}'.format(t,result,result_true))"
      ],
      "execution_count": 181,
      "outputs": [
        {
          "output_type": "stream",
          "text": [
            "0.7490196078431373\n",
            "text: Sóng ngầm khiến Mỹ đóng cửa lãnh sự quán Trung Quốc    ->     label_model:['phantich'];     label_true:['phantich']\n",
            "text: Tàu ngầm Pháp bí mật đi qua Biển Đông     ->     label_model:['quansu'];     label_true:['quansu']\n",
            "text: Ông Tập biên chế cùng lúc ba chiến hạm cỡ lớn     ->     label_model:['quansu'];     label_true:['quansu']\n",
            "text: 'Đội quân ma' từng đánh lừa phát xít Đức     ->     label_model:['tulieu'];     label_true:['quansu']\n"
          ],
          "name": "stdout"
        }
      ]
    },
    {
      "cell_type": "code",
      "metadata": {
        "colab": {
          "base_uri": "https://localhost:8080/"
        },
        "id": "wRHxZJea9nc2",
        "outputId": "1ff615eb-8919-4b9b-a1e6-5fa760273989"
      },
      "source": [
        "from sklearn.svm import LinearSVC\n",
        "clf=OneVsRestClassifier(LinearSVC(C=2)).fit(X_train_tfidf, y_train)\n",
        "print(clf.score(X_test_tfidf,y_test))"
      ],
      "execution_count": 182,
      "outputs": [
        {
          "output_type": "stream",
          "text": [
            "0.7241830065359477\n"
          ],
          "name": "stdout"
        }
      ]
    },
    {
      "cell_type": "code",
      "metadata": {
        "colab": {
          "base_uri": "https://localhost:8080/"
        },
        "id": "IjW32EzALjpP",
        "outputId": "c1f82be6-7fb3-40b1-f586-d9fe2484a324"
      },
      "source": [
        "for i in list_index:\n",
        "  t=X_test_array[i]\n",
        "  result=gen.inverse_transform(clf.predict(X_test_tfidf[i]))\n",
        "  result_true=gen.inverse_transform([y_test_array[i]])\n",
        "  print('text: {}    ->     label_model:{};     label_true:{}'.format(t,result,result_true))"
      ],
      "execution_count": 183,
      "outputs": [
        {
          "output_type": "stream",
          "text": [
            "text: Sóng ngầm khiến Mỹ đóng cửa lãnh sự quán Trung Quốc    ->     label_model:['phantich'];     label_true:['phantich']\n",
            "text: Tàu ngầm Pháp bí mật đi qua Biển Đông     ->     label_model:['quansu'];     label_true:['quansu']\n",
            "text: Ông Tập biên chế cùng lúc ba chiến hạm cỡ lớn     ->     label_model:['phantich'];     label_true:['quansu']\n",
            "text: 'Đội quân ma' từng đánh lừa phát xít Đức     ->     label_model:['tulieu'];     label_true:['quansu']\n"
          ],
          "name": "stdout"
        }
      ]
    },
    {
      "cell_type": "markdown",
      "metadata": {
        "id": "MC9s-W9GGWCS"
      },
      "source": [
        "OneVsOne"
      ]
    },
    {
      "cell_type": "code",
      "metadata": {
        "colab": {
          "base_uri": "https://localhost:8080/"
        },
        "id": "5CjlUu6J-id3",
        "outputId": "770d7338-f13a-4d2a-e2a6-d1ad52ef3852"
      },
      "source": [
        "from sklearn.multiclass import OneVsOneClassifier\n",
        "clf=OneVsOneClassifier(SVC(kernel='linear')).fit(X_train_tfidf,y_train)\n",
        "print(clf.score(X_test_tfidf,y_test))"
      ],
      "execution_count": 184,
      "outputs": [
        {
          "output_type": "stream",
          "text": [
            "0.7568627450980392\n"
          ],
          "name": "stdout"
        }
      ]
    },
    {
      "cell_type": "code",
      "metadata": {
        "colab": {
          "base_uri": "https://localhost:8080/"
        },
        "id": "hiR4u2BYLknP",
        "outputId": "98cdf0e4-795b-46fd-98fa-f9b0647b1535"
      },
      "source": [
        "for i in list_index:\n",
        "  t=X_test_array[i]\n",
        "  result=gen.inverse_transform(clf.predict(X_test_tfidf[i]))\n",
        "  result_true=gen.inverse_transform([y_test_array[i]])\n",
        "  print('text: {}    ->     label_model:{};     label_true:{}'.format(t,result,result_true))"
      ],
      "execution_count": 185,
      "outputs": [
        {
          "output_type": "stream",
          "text": [
            "text: Sóng ngầm khiến Mỹ đóng cửa lãnh sự quán Trung Quốc    ->     label_model:['phantich'];     label_true:['phantich']\n",
            "text: Tàu ngầm Pháp bí mật đi qua Biển Đông     ->     label_model:['quansu'];     label_true:['quansu']\n",
            "text: Ông Tập biên chế cùng lúc ba chiến hạm cỡ lớn     ->     label_model:['quansu'];     label_true:['quansu']\n",
            "text: 'Đội quân ma' từng đánh lừa phát xít Đức     ->     label_model:['tulieu'];     label_true:['quansu']\n"
          ],
          "name": "stdout"
        }
      ]
    },
    {
      "cell_type": "code",
      "metadata": {
        "colab": {
          "base_uri": "https://localhost:8080/"
        },
        "id": "ieuPMk8y-_dH",
        "outputId": "e19c8914-86c7-4adc-d9d2-0e694c9f1ea9"
      },
      "source": [
        "clf=OneVsOneClassifier(SVC(kernel='rbf')).fit(X_train_tfidf,y_train)\n",
        "print(clf.score(X_test_tfidf,y_test))"
      ],
      "execution_count": 186,
      "outputs": [
        {
          "output_type": "stream",
          "text": [
            "0.7601307189542483\n"
          ],
          "name": "stdout"
        }
      ]
    },
    {
      "cell_type": "code",
      "metadata": {
        "colab": {
          "base_uri": "https://localhost:8080/"
        },
        "id": "jcuGvuc3LmhY",
        "outputId": "c863e862-3d91-47e9-877f-db2a097a8dd2"
      },
      "source": [
        "for i in list_index:\n",
        "  t=X_test_array[i]\n",
        "  result=gen.inverse_transform(clf.predict(X_test_tfidf[i]))\n",
        "  result_true=gen.inverse_transform([y_test_array[i]])\n",
        "  print('text: {}    ->     label_model:{};     label_true:{}'.format(t,result,result_true))"
      ],
      "execution_count": 187,
      "outputs": [
        {
          "output_type": "stream",
          "text": [
            "text: Sóng ngầm khiến Mỹ đóng cửa lãnh sự quán Trung Quốc    ->     label_model:['phantich'];     label_true:['phantich']\n",
            "text: Tàu ngầm Pháp bí mật đi qua Biển Đông     ->     label_model:['quansu'];     label_true:['quansu']\n",
            "text: Ông Tập biên chế cùng lúc ba chiến hạm cỡ lớn     ->     label_model:['quansu'];     label_true:['quansu']\n",
            "text: 'Đội quân ma' từng đánh lừa phát xít Đức     ->     label_model:['tulieu'];     label_true:['quansu']\n"
          ],
          "name": "stdout"
        }
      ]
    },
    {
      "cell_type": "code",
      "metadata": {
        "colab": {
          "base_uri": "https://localhost:8080/"
        },
        "id": "EPLhdNU0_FFf",
        "outputId": "e33e1916-3c67-4446-b60e-f3e60113fc4e"
      },
      "source": [
        "clf=OneVsOneClassifier(SVC(kernel='poly')).fit(X_train_tfidf,y_train)\n",
        "print(clf.score(X_test_tfidf,y_test))"
      ],
      "execution_count": 188,
      "outputs": [
        {
          "output_type": "stream",
          "text": [
            "0.6745098039215687\n"
          ],
          "name": "stdout"
        }
      ]
    },
    {
      "cell_type": "code",
      "metadata": {
        "colab": {
          "base_uri": "https://localhost:8080/"
        },
        "id": "x6jqhljxLnNI",
        "outputId": "32e6795b-21e5-4a59-881e-5da8828fc586"
      },
      "source": [
        "for i in list_index:\n",
        "  t=X_test_array[i]\n",
        "  result=gen.inverse_transform(clf.predict(X_test_tfidf[i]))\n",
        "  result_true=gen.inverse_transform([y_test_array[i]])\n",
        "  print('text: {}    ->     label_model:{};     label_true:{}'.format(t,result,result_true))"
      ],
      "execution_count": 189,
      "outputs": [
        {
          "output_type": "stream",
          "text": [
            "text: Sóng ngầm khiến Mỹ đóng cửa lãnh sự quán Trung Quốc    ->     label_model:['phantich'];     label_true:['phantich']\n",
            "text: Tàu ngầm Pháp bí mật đi qua Biển Đông     ->     label_model:['quansu'];     label_true:['quansu']\n",
            "text: Ông Tập biên chế cùng lúc ba chiến hạm cỡ lớn     ->     label_model:['cuocsongdoday'];     label_true:['quansu']\n",
            "text: 'Đội quân ma' từng đánh lừa phát xít Đức     ->     label_model:['tulieu'];     label_true:['quansu']\n"
          ],
          "name": "stdout"
        }
      ]
    },
    {
      "cell_type": "markdown",
      "metadata": {
        "id": "H2IdW2OsGZcp"
      },
      "source": [
        "OutputClassifier"
      ]
    },
    {
      "cell_type": "code",
      "metadata": {
        "id": "Z8KZx5BeQdwK"
      },
      "source": [
        "X_test_tfidf_array=X_test_tfidf.toarray()\n",
        "X_train_tfidf_array=X_train_tfidf.toarray()"
      ],
      "execution_count": 190,
      "outputs": []
    },
    {
      "cell_type": "code",
      "metadata": {
        "colab": {
          "base_uri": "https://localhost:8080/"
        },
        "id": "rIq9K-WE_I3B",
        "outputId": "0b8686a6-dc38-47ab-e094-5c509d6b53fa"
      },
      "source": [
        "from sklearn.multiclass import OutputCodeClassifier\n",
        "clf=OutputCodeClassifier(SVC(kernel='linear')).fit(X_train_tfidf_array,y_train)\n",
        "print(clf.score(X_test_tfidf_array,y_test))"
      ],
      "execution_count": 191,
      "outputs": [
        {
          "output_type": "stream",
          "text": [
            "0.665359477124183\n"
          ],
          "name": "stdout"
        }
      ]
    },
    {
      "cell_type": "markdown",
      "metadata": {
        "id": "2xbU1ElIGb-Z"
      },
      "source": [
        "RandomForest"
      ]
    },
    {
      "cell_type": "code",
      "metadata": {
        "colab": {
          "base_uri": "https://localhost:8080/"
        },
        "id": "WoMlnlusDxhj",
        "outputId": "b9836df4-abff-42e6-b3b0-b347ec534b20"
      },
      "source": [
        "from sklearn.ensemble import RandomForestClassifier\n",
        "clf=RandomForestClassifier(max_depth=2,random_state=0).fit(X_train_tfidf,y_train)\n",
        "score=clf.score(X_test_tfidf,y_test)\n",
        "score"
      ],
      "execution_count": 192,
      "outputs": [
        {
          "output_type": "execute_result",
          "data": {
            "text/plain": [
              "0.6137254901960785"
            ]
          },
          "metadata": {
            "tags": []
          },
          "execution_count": 192
        }
      ]
    },
    {
      "cell_type": "code",
      "metadata": {
        "colab": {
          "base_uri": "https://localhost:8080/"
        },
        "id": "4iiAyrY6LooP",
        "outputId": "ffc24cd4-b693-49cf-fd85-49e387aba9c2"
      },
      "source": [
        "for i in list_index:\n",
        "  t=X_test_array[i]\n",
        "  result=gen.inverse_transform(clf.predict(X_test_tfidf[i]))\n",
        "  result_true=gen.inverse_transform([y_test_array[i]])\n",
        "  print('text: {}    ->     label_model:{};     label_true:{}'.format(t,result,result_true))"
      ],
      "execution_count": 193,
      "outputs": [
        {
          "output_type": "stream",
          "text": [
            "text: Sóng ngầm khiến Mỹ đóng cửa lãnh sự quán Trung Quốc    ->     label_model:['quansu'];     label_true:['phantich']\n",
            "text: Tàu ngầm Pháp bí mật đi qua Biển Đông     ->     label_model:['quansu'];     label_true:['quansu']\n",
            "text: Ông Tập biên chế cùng lúc ba chiến hạm cỡ lớn     ->     label_model:['quansu'];     label_true:['quansu']\n",
            "text: 'Đội quân ma' từng đánh lừa phát xít Đức     ->     label_model:['quansu'];     label_true:['quansu']\n"
          ],
          "name": "stdout"
        }
      ]
    },
    {
      "cell_type": "markdown",
      "metadata": {
        "id": "6YFB029aGeM9"
      },
      "source": [
        "MLPClassifier"
      ]
    },
    {
      "cell_type": "code",
      "metadata": {
        "colab": {
          "base_uri": "https://localhost:8080/"
        },
        "id": "a8jBYXZfE4NY",
        "outputId": "2efd9dff-e99d-47bb-b89d-f398efcd4fa4"
      },
      "source": [
        "from sklearn.neural_network import MLPClassifier\n",
        "clf=MLPClassifier(max_iter=300).fit(X_train_tfidf,y_train)\n",
        "score=clf.score(X_test_tfidf,y_test)\n",
        "score"
      ],
      "execution_count": 194,
      "outputs": [
        {
          "output_type": "execute_result",
          "data": {
            "text/plain": [
              "0.6888888888888889"
            ]
          },
          "metadata": {
            "tags": []
          },
          "execution_count": 194
        }
      ]
    },
    {
      "cell_type": "code",
      "metadata": {
        "colab": {
          "base_uri": "https://localhost:8080/"
        },
        "id": "N6HFJfeALpPj",
        "outputId": "f0f98f9c-d1c9-4234-bc83-d52ceee43f0f"
      },
      "source": [
        "for i in list_index:\n",
        "  t=X_test_array[i]\n",
        "  result=gen.inverse_transform(clf.predict(X_test_tfidf[i]))\n",
        "  result_true=gen.inverse_transform([y_test_array[i]])\n",
        "  print('text: {}    ->     label_model:{};     label_true:{}'.format(t,result,result_true))"
      ],
      "execution_count": 195,
      "outputs": [
        {
          "output_type": "stream",
          "text": [
            "text: Sóng ngầm khiến Mỹ đóng cửa lãnh sự quán Trung Quốc    ->     label_model:['phantich'];     label_true:['phantich']\n",
            "text: Tàu ngầm Pháp bí mật đi qua Biển Đông     ->     label_model:['quansu'];     label_true:['quansu']\n",
            "text: Ông Tập biên chế cùng lúc ba chiến hạm cỡ lớn     ->     label_model:['phantich'];     label_true:['quansu']\n",
            "text: 'Đội quân ma' từng đánh lừa phát xít Đức     ->     label_model:['tulieu'];     label_true:['quansu']\n"
          ],
          "name": "stdout"
        }
      ]
    },
    {
      "cell_type": "markdown",
      "metadata": {
        "id": "JKX_SkVQGiYd"
      },
      "source": [
        "DecisionTreeClassifier"
      ]
    },
    {
      "cell_type": "code",
      "metadata": {
        "colab": {
          "base_uri": "https://localhost:8080/"
        },
        "id": "4ff6UYRkE0Mw",
        "outputId": "631c5ee9-5462-4570-af82-c91fd4879735"
      },
      "source": [
        "from sklearn.tree import DecisionTreeClassifier\n",
        "clf=DecisionTreeClassifier().fit(X_train_tfidf,y_train)\n",
        "score=clf.score(X_test_tfidf,y_test)\n",
        "score"
      ],
      "execution_count": 196,
      "outputs": [
        {
          "output_type": "execute_result",
          "data": {
            "text/plain": [
              "0.6529411764705882"
            ]
          },
          "metadata": {
            "tags": []
          },
          "execution_count": 196
        }
      ]
    },
    {
      "cell_type": "code",
      "metadata": {
        "colab": {
          "base_uri": "https://localhost:8080/"
        },
        "id": "tVz5ao33Lp00",
        "outputId": "8caaf990-3081-4fad-cf79-237ce9ec63cc"
      },
      "source": [
        "for i in list_index:\n",
        "  t=X_test_array[i]\n",
        "  result=gen.inverse_transform(clf.predict(X_test_tfidf[i]))\n",
        "  result_true=gen.inverse_transform([y_test_array[i]])\n",
        "  print('text: {}    ->     label_model:{};     label_true:{}'.format(t,result,result_true))"
      ],
      "execution_count": 197,
      "outputs": [
        {
          "output_type": "stream",
          "text": [
            "text: Sóng ngầm khiến Mỹ đóng cửa lãnh sự quán Trung Quốc    ->     label_model:['phantich'];     label_true:['phantich']\n",
            "text: Tàu ngầm Pháp bí mật đi qua Biển Đông     ->     label_model:['quansu'];     label_true:['quansu']\n",
            "text: Ông Tập biên chế cùng lúc ba chiến hạm cỡ lớn     ->     label_model:['quansu'];     label_true:['quansu']\n",
            "text: 'Đội quân ma' từng đánh lừa phát xít Đức     ->     label_model:['quansu'];     label_true:['quansu']\n"
          ],
          "name": "stdout"
        }
      ]
    }
  ]
}